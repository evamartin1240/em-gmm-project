{
 "cells": [
  {
   "cell_type": "markdown",
   "id": "8e2c87f6",
   "metadata": {},
   "source": [
    "# Gaussian Mixture Models on Real Biomedical Data\n",
    "\n",
    "This notebook applies the Expectation-Maximization (EM) algorithm for Gaussian Mixture Models (GMMs) to a real biomedical dataset: the Breast Cancer Wisconsin (Diagnostic) dataset. The goal is to assess how well GMM can uncover structure in real data and compare the effectiveness of different initialization strategies.\n",
    "\n",
    "https://archive.ics.uci.edu/dataset/17/breast+cancer+wisconsin+diagnostic"
   ]
  },
  {
   "cell_type": "markdown",
   "id": "b283755f",
   "metadata": {},
   "source": [
    "## 1. Load and explore the dataset"
   ]
  },
  {
   "cell_type": "code",
   "execution_count": 11,
   "id": "bdb6be13",
   "metadata": {},
   "outputs": [
    {
     "data": {
      "text/html": [
       "<div>\n",
       "<style scoped>\n",
       "    .dataframe tbody tr th:only-of-type {\n",
       "        vertical-align: middle;\n",
       "    }\n",
       "\n",
       "    .dataframe tbody tr th {\n",
       "        vertical-align: top;\n",
       "    }\n",
       "\n",
       "    .dataframe thead th {\n",
       "        text-align: right;\n",
       "    }\n",
       "</style>\n",
       "<table border=\"1\" class=\"dataframe\">\n",
       "  <thead>\n",
       "    <tr style=\"text-align: right;\">\n",
       "      <th></th>\n",
       "      <th>mean radius</th>\n",
       "      <th>mean texture</th>\n",
       "      <th>mean perimeter</th>\n",
       "      <th>mean area</th>\n",
       "      <th>mean smoothness</th>\n",
       "      <th>mean compactness</th>\n",
       "      <th>mean concavity</th>\n",
       "      <th>mean concave points</th>\n",
       "      <th>mean symmetry</th>\n",
       "      <th>mean fractal dimension</th>\n",
       "      <th>...</th>\n",
       "      <th>worst texture</th>\n",
       "      <th>worst perimeter</th>\n",
       "      <th>worst area</th>\n",
       "      <th>worst smoothness</th>\n",
       "      <th>worst compactness</th>\n",
       "      <th>worst concavity</th>\n",
       "      <th>worst concave points</th>\n",
       "      <th>worst symmetry</th>\n",
       "      <th>worst fractal dimension</th>\n",
       "      <th>target</th>\n",
       "    </tr>\n",
       "  </thead>\n",
       "  <tbody>\n",
       "    <tr>\n",
       "      <th>0</th>\n",
       "      <td>17.99</td>\n",
       "      <td>10.38</td>\n",
       "      <td>122.80</td>\n",
       "      <td>1001.0</td>\n",
       "      <td>0.11840</td>\n",
       "      <td>0.27760</td>\n",
       "      <td>0.3001</td>\n",
       "      <td>0.14710</td>\n",
       "      <td>0.2419</td>\n",
       "      <td>0.07871</td>\n",
       "      <td>...</td>\n",
       "      <td>17.33</td>\n",
       "      <td>184.60</td>\n",
       "      <td>2019.0</td>\n",
       "      <td>0.1622</td>\n",
       "      <td>0.6656</td>\n",
       "      <td>0.7119</td>\n",
       "      <td>0.2654</td>\n",
       "      <td>0.4601</td>\n",
       "      <td>0.11890</td>\n",
       "      <td>0</td>\n",
       "    </tr>\n",
       "    <tr>\n",
       "      <th>1</th>\n",
       "      <td>20.57</td>\n",
       "      <td>17.77</td>\n",
       "      <td>132.90</td>\n",
       "      <td>1326.0</td>\n",
       "      <td>0.08474</td>\n",
       "      <td>0.07864</td>\n",
       "      <td>0.0869</td>\n",
       "      <td>0.07017</td>\n",
       "      <td>0.1812</td>\n",
       "      <td>0.05667</td>\n",
       "      <td>...</td>\n",
       "      <td>23.41</td>\n",
       "      <td>158.80</td>\n",
       "      <td>1956.0</td>\n",
       "      <td>0.1238</td>\n",
       "      <td>0.1866</td>\n",
       "      <td>0.2416</td>\n",
       "      <td>0.1860</td>\n",
       "      <td>0.2750</td>\n",
       "      <td>0.08902</td>\n",
       "      <td>0</td>\n",
       "    </tr>\n",
       "    <tr>\n",
       "      <th>2</th>\n",
       "      <td>19.69</td>\n",
       "      <td>21.25</td>\n",
       "      <td>130.00</td>\n",
       "      <td>1203.0</td>\n",
       "      <td>0.10960</td>\n",
       "      <td>0.15990</td>\n",
       "      <td>0.1974</td>\n",
       "      <td>0.12790</td>\n",
       "      <td>0.2069</td>\n",
       "      <td>0.05999</td>\n",
       "      <td>...</td>\n",
       "      <td>25.53</td>\n",
       "      <td>152.50</td>\n",
       "      <td>1709.0</td>\n",
       "      <td>0.1444</td>\n",
       "      <td>0.4245</td>\n",
       "      <td>0.4504</td>\n",
       "      <td>0.2430</td>\n",
       "      <td>0.3613</td>\n",
       "      <td>0.08758</td>\n",
       "      <td>0</td>\n",
       "    </tr>\n",
       "    <tr>\n",
       "      <th>3</th>\n",
       "      <td>11.42</td>\n",
       "      <td>20.38</td>\n",
       "      <td>77.58</td>\n",
       "      <td>386.1</td>\n",
       "      <td>0.14250</td>\n",
       "      <td>0.28390</td>\n",
       "      <td>0.2414</td>\n",
       "      <td>0.10520</td>\n",
       "      <td>0.2597</td>\n",
       "      <td>0.09744</td>\n",
       "      <td>...</td>\n",
       "      <td>26.50</td>\n",
       "      <td>98.87</td>\n",
       "      <td>567.7</td>\n",
       "      <td>0.2098</td>\n",
       "      <td>0.8663</td>\n",
       "      <td>0.6869</td>\n",
       "      <td>0.2575</td>\n",
       "      <td>0.6638</td>\n",
       "      <td>0.17300</td>\n",
       "      <td>0</td>\n",
       "    </tr>\n",
       "    <tr>\n",
       "      <th>4</th>\n",
       "      <td>20.29</td>\n",
       "      <td>14.34</td>\n",
       "      <td>135.10</td>\n",
       "      <td>1297.0</td>\n",
       "      <td>0.10030</td>\n",
       "      <td>0.13280</td>\n",
       "      <td>0.1980</td>\n",
       "      <td>0.10430</td>\n",
       "      <td>0.1809</td>\n",
       "      <td>0.05883</td>\n",
       "      <td>...</td>\n",
       "      <td>16.67</td>\n",
       "      <td>152.20</td>\n",
       "      <td>1575.0</td>\n",
       "      <td>0.1374</td>\n",
       "      <td>0.2050</td>\n",
       "      <td>0.4000</td>\n",
       "      <td>0.1625</td>\n",
       "      <td>0.2364</td>\n",
       "      <td>0.07678</td>\n",
       "      <td>0</td>\n",
       "    </tr>\n",
       "  </tbody>\n",
       "</table>\n",
       "<p>5 rows × 31 columns</p>\n",
       "</div>"
      ],
      "text/plain": [
       "   mean radius  mean texture  mean perimeter  mean area  mean smoothness  \\\n",
       "0        17.99         10.38          122.80     1001.0          0.11840   \n",
       "1        20.57         17.77          132.90     1326.0          0.08474   \n",
       "2        19.69         21.25          130.00     1203.0          0.10960   \n",
       "3        11.42         20.38           77.58      386.1          0.14250   \n",
       "4        20.29         14.34          135.10     1297.0          0.10030   \n",
       "\n",
       "   mean compactness  mean concavity  mean concave points  mean symmetry  \\\n",
       "0           0.27760          0.3001              0.14710         0.2419   \n",
       "1           0.07864          0.0869              0.07017         0.1812   \n",
       "2           0.15990          0.1974              0.12790         0.2069   \n",
       "3           0.28390          0.2414              0.10520         0.2597   \n",
       "4           0.13280          0.1980              0.10430         0.1809   \n",
       "\n",
       "   mean fractal dimension  ...  worst texture  worst perimeter  worst area  \\\n",
       "0                 0.07871  ...          17.33           184.60      2019.0   \n",
       "1                 0.05667  ...          23.41           158.80      1956.0   \n",
       "2                 0.05999  ...          25.53           152.50      1709.0   \n",
       "3                 0.09744  ...          26.50            98.87       567.7   \n",
       "4                 0.05883  ...          16.67           152.20      1575.0   \n",
       "\n",
       "   worst smoothness  worst compactness  worst concavity  worst concave points  \\\n",
       "0            0.1622             0.6656           0.7119                0.2654   \n",
       "1            0.1238             0.1866           0.2416                0.1860   \n",
       "2            0.1444             0.4245           0.4504                0.2430   \n",
       "3            0.2098             0.8663           0.6869                0.2575   \n",
       "4            0.1374             0.2050           0.4000                0.1625   \n",
       "\n",
       "   worst symmetry  worst fractal dimension  target  \n",
       "0          0.4601                  0.11890       0  \n",
       "1          0.2750                  0.08902       0  \n",
       "2          0.3613                  0.08758       0  \n",
       "3          0.6638                  0.17300       0  \n",
       "4          0.2364                  0.07678       0  \n",
       "\n",
       "[5 rows x 31 columns]"
      ]
     },
     "execution_count": 11,
     "metadata": {},
     "output_type": "execute_result"
    }
   ],
   "source": [
    "from sklearn.datasets import load_breast_cancer\n",
    "import pandas as pd\n",
    "\n",
    "data = load_breast_cancer()\n",
    "X = data.data\n",
    "y = data.target\n",
    "feature_names = data.feature_names\n",
    "target_names = data.target_names\n",
    "\n",
    "df = pd.DataFrame(X, columns=feature_names)\n",
    "df['target'] = y\n",
    "df.head()\n"
   ]
  },
  {
   "cell_type": "markdown",
   "id": "ea48bd12",
   "metadata": {},
   "source": [
    "## 2. Dimensionality reduction with PCA (2D)"
   ]
  },
  {
   "cell_type": "code",
   "execution_count": 12,
   "id": "ac661a27",
   "metadata": {},
   "outputs": [
    {
     "data": {
      "image/png": "[encoded data removed]",
      "text/plain": [
       "<Figure size 800x600 with 1 Axes>"
      ]
     },
     "metadata": {},
     "output_type": "display_data"
    }
   ],
   "source": [
    "from sklearn.decomposition import PCA\n",
    "import matplotlib.pyplot as plt\n",
    "\n",
    "pca = PCA(n_components=2)\n",
    "X_pca = pca.fit_transform(X)\n",
    "\n",
    "plt.figure(figsize=(8, 6))\n",
    "plt.scatter(X_pca[:, 0], X_pca[:, 1], c=y, cmap='bwr', alpha=0.7)\n",
    "plt.title(\"PCA of Breast Cancer Data\")\n",
    "plt.xlabel(\"PC 1\")\n",
    "plt.ylabel(\"PC 2\")\n",
    "plt.grid(True)\n",
    "plt.show()\n"
   ]
  },
  {
   "cell_type": "markdown",
   "id": "da97348c",
   "metadata": {},
   "source": [
    "## 3. Fit GMM with KMeans and Random initialization"
   ]
  },
  {
   "cell_type": "code",
   "execution_count": 13,
   "id": "d3cf27bf",
   "metadata": {},
   "outputs": [
    {
     "name": "stdout",
     "output_type": "stream",
     "text": [
      "ARI (KMeans Init): 0.755\n",
      "ARI (Random Init): 0.755\n"
     ]
    }
   ],
   "source": [
    "from emgmm import GMM\n",
    "from sklearn.metrics import adjusted_rand_score\n",
    "\n",
    "# Reduce data to 2D for simplicity\n",
    "X_used = X_pca\n",
    "\n",
    "gmm_kmeans = GMM(n_components=2, init_method=\"kmeans\")\n",
    "gmm_kmeans.fit(X_used)\n",
    "labels_kmeans = gmm_kmeans.predict(X_used)\n",
    "ari_kmeans = adjusted_rand_score(y, labels_kmeans)\n",
    "\n",
    "gmm_random = GMM(n_components=2, init_method=\"random\")\n",
    "gmm_random.fit(X_used)\n",
    "labels_random = gmm_random.predict(X_used)\n",
    "ari_random = adjusted_rand_score(y, labels_random)\n",
    "\n",
    "print(f\"ARI (KMeans Init): {ari_kmeans:.3f}\")\n",
    "print(f\"ARI (Random Init): {ari_random:.3f}\")\n"
   ]
  },
  {
   "cell_type": "markdown",
   "id": "9b8e1c3b",
   "metadata": {},
   "source": [
    "## 4. Visual comparison of clustering results"
   ]
  },
  {
   "cell_type": "code",
   "execution_count": 14,
   "id": "a19876d0",
   "metadata": {},
   "outputs": [
    {
     "data": {
      "application/vnd.plotly.v1+json": {
       "config": {
        "plotlyServerURL": "https://plot.ly"
       },
       "data": [
        {
         "marker": {
          "color": {
           "bdata": "AAAAAQAAAAAAAAAAAAABAAAAAAEBAQAAAAAAAAAAAAAAAAAAAQEAAQABAAABAAEAAQEBAQEAAAEAAAEBAQEAAQAAAQEBAQABAAABAAEAAAEBAQAAAQABAAEBAQEAAQAAAQEBAQABAQEBAAEBAAEBAQEBAQEBAAAAAQAAAQEBAAABAAEAAAEAAQEBAAEBAAEBAQEBAQEBAQEBAQEBAAABAQEAAAEAAQEAAAEBAAABAQEBAQEBAAAAAQABAAEBAQEBAQABAQEAAAABAAAAAQABAAEBAAEAAAEBAQEAAAEBAQABAAEBAQEAAQEAAQEAAAEAAQEBAQABAQEBAQABAAAAAAABAAAAAAAAAAABAQEBAQEAAQABAQABAQABAAABAQEBAQEBAQEBAQEBAQEBAAEAAQEBAQEBAQEBAQEBAQEAAQEBAAEAAQEBAQABAAEBAQEAAQABAAEBAQABAQEBAQEBAQAAAQEBAQEBAQEBAQEAAAEAAAABAAABAAEBAQEBAQEBAQEBAQEAAQEAAAEBAQEBAQABAQEBAQEBAAEBAQEBAQEBAAEBAQEBAQEBAQEBAQEBAAABAAEBAQEBAAEBAAEAAQEAAQABAQEBAQEBAQAAAQEBAQEBAAEBAQEBAQEBAQEAAQABAQEBAQABAAEAAAEBAQEBAAABAQEAAQEBAQABAQEAAQABAAABAQEAAQEBAQEBAQEBAQEAAQABAQEBAQEBAQEBAQEBAQEBAQEBAQEBAQEBAQEAAAAAAAE=",
           "dtype": "i1"
          },
          "colorscale": [
           [
            0,
            "#440154"
           ],
           [
            0.1111111111111111,
            "#482878"
           ],
           [
            0.2222222222222222,
            "#3e4989"
           ],
           [
            0.3333333333333333,
            "#31688e"
           ],
           [
            0.4444444444444444,
            "#26828e"
           ],
           [
            0.5555555555555556,
            "#1f9e89"
           ],
           [
            0.6666666666666666,
            "#35b779"
           ],
           [
            0.7777777777777778,
            "#6ece58"
           ],
           [
            0.8888888888888888,
            "#b5de2b"
           ],
           [
            1,
            "#fde725"
           ]
          ],
          "opacity": 0.7,
          "size": 6
         },
         "mode": "markers",
         "name": "Data points",
         "type": "scatter",
         "x": {
          "bdata": "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",
          "dtype": "f8"
         },
         "y": {
          "bdata": "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",
          "dtype": "f8"
         }
        },
        {
         "line": {
          "color": "black"
         },
         "mode": "lines",
         "name": "Component 1",
         "type": "scatter",
         "x": {
          "bdata": "jYuPRSu5hcBjAafj8aSFwLsunSebZIXArdXVY2n4hMAJkMUfzGCEwAFa+qRfnoPAH9sAXuyxgsB3f8wHZpyBwO1Wd7bqXoDAmnK5XIP1fcC6Vn0ltOJ6wHqKo9aSiHfAAHFrBJTqc8BAvxI4cgxwwIhBwS9U5GfA2KkoLNl/XsBgJmXtWNJIwMB0PmrhojlAGNP4427iWUAqmALi8fdmQEnCRtMan3BA6mgUtbXcdUDjtM+hYi97QGArSXbSSIBArT8R7Pf+gkDHG70nVreFQCoQfFQfb4hALnkkN4Yji0BsG4oRwdGNQGP+HUGGO5BAdKfZLleIkUBt4QE//M2SQGCzE8MlC5RAkHoGy4w+lUBKmU929GaWQGhGhzorg5dA5sZdHgySmECsZ5znf5KZQEfn+jp+g5pASJugrA5km0DUaTjASTOcQBKfj9dZ8JxAmKTJDnyanUDanUUFATGeQLzSZpJNs55AiI2FZdsgn0BAjWOQOXmfQJxTlfsMvJ9AsE5oxBDpn0CmifJBCwCgQL46Uj+DAKBAvDBGvd/rn0Aa6G8NuMCfQHh3U+u7f59A9sDTUy4pn0B2O3d/aL2eQKRwb4bZPJ5AjjgU7gWonUBGv0ggh/+cQFAlV80KRJxAGL/lOFJ2m0DWgr5yMZeaQGQBNnyOp5lA5D8TW2ComEAO2ewarpqXQEbiAb6Nf5ZA5hamHiNYlUAWs2jCniWUQKccLKA86ZJAou9x2kKkkUAHLCtvAFiQQNAizryXC45A9DuJkgNei0A1QyUVB6qIQCSwIZVr8oVAeweTHv45g0AMB/2VjIOAQFRum6jFo3tAmmnoiY9PdkD+uBcS9Q9xQCoCPYq+1GdAqHnwU3GQW0DgMlxN0RJAQOBzFK33rkXA0CMPSsb+XMCQe1sW4CxnwOjiAspCa2/AAj7Q6AWZc8D2cxmEmzx3wJbqvOqhnHrA0jLgdJ61fcDxAoXaL0KAwGnDYGEAg4HAAWAmG/abgsC5iT1p74uDwC1o3uz0UYTATzcQhjrthMCX3RMmIF2FwOuTYXQyoYXAjYuPRSu5hcA=",
          "dtype": "f8"
         },
         "y": {
          "bdata": "AYMACqMPLUADM5GLUSoFwAYUJ5cF1DPAULScLlV5QsBOgCplyfdKwJOa6/pOrlHA9WuI6JXPVcDDKTeed9tZwFdXzEzIzV3ASAnvPzvRYMBa9qinx6piwHi1tjihcWTA4n+bFPMjZsDBC42G/b9nwJPk9NAXRGnAtFpF47GuasCptl72Vf5rwOiU2w2qMW3AsT23XHFHbsCEVN6LjT5vwOOerPD/CnDAnvtvI3VmcMDtW2QXSLFwwMesMqsr63DANZmDMuQTccAwuYKzRytxwFKaIxI+MXHA1Qf8KMElccCW85nP3AhxwBd4Ts6u2nDA/oh6v2abcMBm93zeRUtwwKi+6Ig91W/AyZ00JqrzbsC/1x4cuvJtwLvrBEZ202zAaV9bwgaXa8CNz27BsT5qwPvlJTXay2jA9s8eY/4/Z8BlXqFatpxlwA8D/E+y42PA10T93rgWYsC27FQ2pTdgwFL4f1vKkFzAMLPwke6VWMBr6OlS0YJUwAOuMeKlW1DA5a38X2hJSMCao/u8UYk/wJtfBNlUxyzAuFYn8sFjBkCquByCXvUzQEGlowmsgkJA46CxK2f1SkAAUbOhFaVRQL06NegwvFVAktMQCM67WUBMvHzXzZ9dQHKp8dEWsmBAeyMdqoWCYkChtN+0VD9kQHAyfW255mVAs/mEYv92Z0CtDrf3ie5oQPH/Vw/WS2pAZxw9mXuNa0BXo/UFL7JsQAhVkpzCuG1ARxOrsSegbkBs9mG+b2dvQAodIqvmBnBAXsaFfUpJcEAJvbLmnnpwQMVaBQ2xmnBAdWpK4V+pcEDuNNNAnKZwQDecDwVpknBAIzCeANtscEBhQ9XpGDZwQGFCtmW23G9A+Qztntcrb0DnsabRS1puQK9hFP/qaG1AIyeX+K1YbEA8RENfrSprQD/bmIIg4GlA0xWcH1x6aEAqlpcB0fpmQPtC84UKY2VAak+nBK20Y0AHm+8edPFhQAAS/vUwG2BA+OUGl5BnXECocvkbYXpYQBqJkKXfclRAIj4xgDNVUECkm62jNUtIQAwsyumYoT9AJ4MACqMPLUA=",
          "dtype": "f8"
         }
        },
        {
         "marker": {
          "color": "black",
          "size": 10,
          "symbol": "x"
         },
         "mode": "markers",
         "showlegend": false,
         "type": "scatter",
         "x": [
          676.8418870210431
         ],
         "y": [
          -4.220880562733514
         ]
        },
        {
         "line": {
          "color": "black"
         },
         "mode": "lines",
         "name": "Component 2",
         "type": "scatter",
         "x": {
          "bdata": "iHoX1P12iMBAtGyqTG2IwN50+0JLVojAZ5awVBEyiMDh3lA3xACIwLyV+ryWwofAPWfC/ch3h8B/lqEVqCCHwAiZ+dSNvYbAlwv/Y+BOhsC0b2vZEdWFwCY/4sSfUIXAMJCCrRLChMA2tiqF/SmEwI7x/hD9iIPAFlPPR7ffgsCpaAOn2i6CwLcMvH4dd4HAZcLkNT25gMBXr+wN++t/wLoeaGxPXH7AvptmhBPFfMDFSwcf6yd7wCZRpCCAhnnAGgLO0YDid8ASQ78jnj12wMU7FPKJmXTAq3GPQ/X3csCTS7qLjlpxwJk/Wt7/hW/AAWSQGNtlbMB640SU51dpwAHI2F5LX2bAXN76hRZ/Y8BIlG/vP7pgwAp8jpVEJ1zAwFNSQPIbV8BY2nf+u1dSwJDySEQXv0vAmCB+P/lvQ8AwB4U4XZU3wADbsONjXCPAgNCdtdM5BkCA8iWOIHwrQACKkSYCKzdAQIlaxFgEP0AwSLlt/qBCQFDb6cS/7kRA2AcJeRBpRkCYVlmQag5HQMiXFJgj3kZAKI4fVG3YRUAAYL2LVf5DQLCvd/PEUUFA4Ai0avqqO0CQoQ8zLBozQECoa0jn8yFAACFDHvlZBcAgce0e1pIvwACpynEKUz7AmC5Be5AcR8AIbFuKpbVPwORE7bzzdVTArPYsrOtaWcBaIaT8roRewCeL7Jb19mHAuxvQKIbIZMDzfgZmIbRnwLbSc6jEtmrAtmA9jFXNbcDEvVSRUnpwwFMoFp25FHLAjd8f3Di0c8Cn9MgAJFd1wDS5gzbL+3bAj5YB33ygeMBGwi5Rh0N6wG0MOZg643vAUPrUMOp9fcC0LvbC7hF/wDTlGevTToDAdnaLv74PgcDOZcwB8cqBwNN1j7qpf4LAim8nny4tg8Bkt4/RzNKDwKykzZjZb4TAdovsELMDhcA2EN/RwI2FwBy/mYx0DYbA3/TEnUqChsDA4W6VyuuGwOLFMbOHSYfATm1OViGbh8CCXEdhQ+CHwIsAlpCmGIjAOIEgxBBEiMAEfCQ7VWKIwELkWMJUc4jAiHoX1P12iMA=",
          "dtype": "f8"
         },
         "y": {
          "bdata": "V6hiYzj8SsDR9J1qLlFMwFRF0rnEh03AmecMKLueTsCaYsMl8pRPwGn6n/K1NFDAXvEgsKaNUMB98uGc79RQwDH9fz1HClHAM+N2lXYtUcBLqc9fWT5RwNGrgzTePFHA4fxtmgYpUcBMfbgF5wJRwJpPxsKmylDACWGxzX+AUMCMyoSWviRQwGRO42SDb0/AWzGf9PJzTsCl9Zotz1dNwEJOk/U8HEzAWx23mIHCSsDUj1R6AUxJwGrJeaU+ukfAUdMDP9cORsBvArbag0tEwPnlEbUVckLAQubD03SEQMAF3iUdPAk9wGZtswVC6TjACalM5zutNMBpkWExh1kwwKAtq3kz5SfA0ZXUy/TzHcA4jPP/UuoHwK3VAZ+4ffg/a66F6i43GECwJrsiuR8lQEh7qdbQEi5A0ZTsbdJ1M0DdNQBIi9A3QAvdK+UVFTxAdfUlB4YfQEDLIDV5ESVCQMyhtskXGURAr278iJX5RUBb6Alqm8RHQKHuJEFQeElAAhWX6/ISS0BlLqge3JJMQDHw9BuA9k1AEeNfSXA8T0D7DnxVrjFQQEEfqJ4KtVBAuE1wl8UnUUDz0pj7aIlRQFNaVyWQ2VFAPvESdegXUkBpjY+mMURSQJteLRM+XlJA96H34PJlUkCadFIeSFtSQF4dK8pIPlJA01yiyBIPUkCacjzE1s1RQDabtvvXelFAmby1/GsWUUDbtZVL+qBQQGY6tPj7GlBA8W9KR/YJT0AR16LZJL9NQCLUI6zYVkxAdtbZJYXSSkAwCFKSujNJQPxJ+IQkfEdAEA9WIIitRUDxb/hCwslDQPzz3pvF0kFAaJLbUDGVP0C8oOo7p2Y7QG/d64E8HjdAX9azWFvAMkBOk74rCKMsQGRx8hWRrCNAfGNsPh1NFUBIc0XM36TpP+Qh67J0uw3Axv9sZqJrIMCsXzsBvlIpwD1aTVGBDTHAE6InXbFdNcCAtLXrfJU5wDAydemKsD3AjB+d8U/VQMAQvIMx0b9CwORF7pTPlUTAACcQoWZVRsBf3jnzyPxHwOEsdBxCiknAVahiYzj8SsA=",
          "dtype": "f8"
         }
        },
        {
         "marker": {
          "color": "black",
          "size": 10,
          "symbol": "x"
         },
         "mode": "markers",
         "showlegend": false,
         "type": "scatter",
         "x": [
          -368.37060533519303
         ],
         "y": [
          2.297210556492632
         ]
        }
       ],
       "layout": {
        "height": 600,
        "showlegend": true,
        "template": {
         "data": {
          "bar": [
           {
            "error_x": {
             "color": "#2a3f5f"
            },
            "error_y": {
             "color": "#2a3f5f"
            },
            "marker": {
             "line": {
              "color": "#E5ECF6",
              "width": 0.5
             },
             "pattern": {
              "fillmode": "overlay",
              "size": 10,
              "solidity": 0.2
             }
            },
            "type": "bar"
           }
          ],
          "barpolar": [
           {
            "marker": {
             "line": {
              "color": "#E5ECF6",
              "width": 0.5
             },
             "pattern": {
              "fillmode": "overlay",
              "size": 10,
              "solidity": 0.2
             }
            },
            "type": "barpolar"
           }
          ],
          "carpet": [
           {
            "aaxis": {
             "endlinecolor": "#2a3f5f",
             "gridcolor": "white",
             "linecolor": "white",
             "minorgridcolor": "white",
             "startlinecolor": "#2a3f5f"
            },
            "baxis": {
             "endlinecolor": "#2a3f5f",
             "gridcolor": "white",
             "linecolor": "white",
             "minorgridcolor": "white",
             "startlinecolor": "#2a3f5f"
            },
            "type": "carpet"
           }
          ],
          "choropleth": [
           {
            "colorbar": {
             "outlinewidth": 0,
             "ticks": ""
            },
            "type": "choropleth"
           }
          ],
          "contour": [
           {
            "colorbar": {
             "outlinewidth": 0,
             "ticks": ""
            },
            "colorscale": [
             [
              0,
              "#0d0887"
             ],
             [
              0.1111111111111111,
              "#46039f"
             ],
             [
              0.2222222222222222,
              "#7201a8"
             ],
             [
              0.3333333333333333,
              "#9c179e"
             ],
             [
              0.4444444444444444,
              "#bd3786"
             ],
             [
              0.5555555555555556,
              "#d8576b"
             ],
             [
              0.6666666666666666,
              "#ed7953"
             ],
             [
              0.7777777777777778,
              "#fb9f3a"
             ],
             [
              0.8888888888888888,
              "#fdca26"
             ],
             [
              1,
              "#f0f921"
             ]
            ],
            "type": "contour"
           }
          ],
          "contourcarpet": [
           {
            "colorbar": {
             "outlinewidth": 0,
             "ticks": ""
            },
            "type": "contourcarpet"
           }
          ],
          "heatmap": [
           {
            "colorbar": {
             "outlinewidth": 0,
             "ticks": ""
            },
            "colorscale": [
             [
              0,
              "#0d0887"
             ],
             [
              0.1111111111111111,
              "#46039f"
             ],
             [
              0.2222222222222222,
              "#7201a8"
             ],
             [
              0.3333333333333333,
              "#9c179e"
             ],
             [
              0.4444444444444444,
              "#bd3786"
             ],
             [
              0.5555555555555556,
              "#d8576b"
             ],
             [
              0.6666666666666666,
              "#ed7953"
             ],
             [
              0.7777777777777778,
              "#fb9f3a"
             ],
             [
              0.8888888888888888,
              "#fdca26"
             ],
             [
              1,
              "#f0f921"
             ]
            ],
            "type": "heatmap"
           }
          ],
          "histogram": [
           {
            "marker": {
             "pattern": {
              "fillmode": "overlay",
              "size": 10,
              "solidity": 0.2
             }
            },
            "type": "histogram"
           }
          ],
          "histogram2d": [
           {
            "colorbar": {
             "outlinewidth": 0,
             "ticks": ""
            },
            "colorscale": [
             [
              0,
              "#0d0887"
             ],
             [
              0.1111111111111111,
              "#46039f"
             ],
             [
              0.2222222222222222,
              "#7201a8"
             ],
             [
              0.3333333333333333,
              "#9c179e"
             ],
             [
              0.4444444444444444,
              "#bd3786"
             ],
             [
              0.5555555555555556,
              "#d8576b"
             ],
             [
              0.6666666666666666,
              "#ed7953"
             ],
             [
              0.7777777777777778,
              "#fb9f3a"
             ],
             [
              0.8888888888888888,
              "#fdca26"
             ],
             [
              1,
              "#f0f921"
             ]
            ],
            "type": "histogram2d"
           }
          ],
          "histogram2dcontour": [
           {
            "colorbar": {
             "outlinewidth": 0,
             "ticks": ""
            },
            "colorscale": [
             [
              0,
              "#0d0887"
             ],
             [
              0.1111111111111111,
              "#46039f"
             ],
             [
              0.2222222222222222,
              "#7201a8"
             ],
             [
              0.3333333333333333,
              "#9c179e"
             ],
             [
              0.4444444444444444,
              "#bd3786"
             ],
             [
              0.5555555555555556,
              "#d8576b"
             ],
             [
              0.6666666666666666,
              "#ed7953"
             ],
             [
              0.7777777777777778,
              "#fb9f3a"
             ],
             [
              0.8888888888888888,
              "#fdca26"
             ],
             [
              1,
              "#f0f921"
             ]
            ],
            "type": "histogram2dcontour"
           }
          ],
          "mesh3d": [
           {
            "colorbar": {
             "outlinewidth": 0,
             "ticks": ""
            },
            "type": "mesh3d"
           }
          ],
          "parcoords": [
           {
            "line": {
             "colorbar": {
              "outlinewidth": 0,
              "ticks": ""
             }
            },
            "type": "parcoords"
           }
          ],
          "pie": [
           {
            "automargin": true,
            "type": "pie"
           }
          ],
          "scatter": [
           {
            "fillpattern": {
             "fillmode": "overlay",
             "size": 10,
             "solidity": 0.2
            },
            "type": "scatter"
           }
          ],
          "scatter3d": [
           {
            "line": {
             "colorbar": {
              "outlinewidth": 0,
              "ticks": ""
             }
            },
            "marker": {
             "colorbar": {
              "outlinewidth": 0,
              "ticks": ""
             }
            },
            "type": "scatter3d"
           }
          ],
          "scattercarpet": [
           {
            "marker": {
             "colorbar": {
              "outlinewidth": 0,
              "ticks": ""
             }
            },
            "type": "scattercarpet"
           }
          ],
          "scattergeo": [
           {
            "marker": {
             "colorbar": {
              "outlinewidth": 0,
              "ticks": ""
             }
            },
            "type": "scattergeo"
           }
          ],
          "scattergl": [
           {
            "marker": {
             "colorbar": {
              "outlinewidth": 0,
              "ticks": ""
             }
            },
            "type": "scattergl"
           }
          ],
          "scattermap": [
           {
            "marker": {
             "colorbar": {
              "outlinewidth": 0,
              "ticks": ""
             }
            },
            "type": "scattermap"
           }
          ],
          "scattermapbox": [
           {
            "marker": {
             "colorbar": {
              "outlinewidth": 0,
              "ticks": ""
             }
            },
            "type": "scattermapbox"
           }
          ],
          "scatterpolar": [
           {
            "marker": {
             "colorbar": {
              "outlinewidth": 0,
              "ticks": ""
             }
            },
            "type": "scatterpolar"
           }
          ],
          "scatterpolargl": [
           {
            "marker": {
             "colorbar": {
              "outlinewidth": 0,
              "ticks": ""
             }
            },
            "type": "scatterpolargl"
           }
          ],
          "scatterternary": [
           {
            "marker": {
             "colorbar": {
              "outlinewidth": 0,
              "ticks": ""
             }
            },
            "type": "scatterternary"
           }
          ],
          "surface": [
           {
            "colorbar": {
             "outlinewidth": 0,
             "ticks": ""
            },
            "colorscale": [
             [
              0,
              "#0d0887"
             ],
             [
              0.1111111111111111,
              "#46039f"
             ],
             [
              0.2222222222222222,
              "#7201a8"
             ],
             [
              0.3333333333333333,
              "#9c179e"
             ],
             [
              0.4444444444444444,
              "#bd3786"
             ],
             [
              0.5555555555555556,
              "#d8576b"
             ],
             [
              0.6666666666666666,
              "#ed7953"
             ],
             [
              0.7777777777777778,
              "#fb9f3a"
             ],
             [
              0.8888888888888888,
              "#fdca26"
             ],
             [
              1,
              "#f0f921"
             ]
            ],
            "type": "surface"
           }
          ],
          "table": [
           {
            "cells": {
             "fill": {
              "color": "#EBF0F8"
             },
             "line": {
              "color": "white"
             }
            },
            "header": {
             "fill": {
              "color": "#C8D4E3"
             },
             "line": {
              "color": "white"
             }
            },
            "type": "table"
           }
          ]
         },
         "layout": {
          "annotationdefaults": {
           "arrowcolor": "#2a3f5f",
           "arrowhead": 0,
           "arrowwidth": 1
          },
          "autotypenumbers": "strict",
          "coloraxis": {
           "colorbar": {
            "outlinewidth": 0,
            "ticks": ""
           }
          },
          "colorscale": {
           "diverging": [
            [
             0,
             "#8e0152"
            ],
            [
             0.1,
             "#c51b7d"
            ],
            [
             0.2,
             "#de77ae"
            ],
            [
             0.3,
             "#f1b6da"
            ],
            [
             0.4,
             "#fde0ef"
            ],
            [
             0.5,
             "#f7f7f7"
            ],
            [
             0.6,
             "#e6f5d0"
            ],
            [
             0.7,
             "#b8e186"
            ],
            [
             0.8,
             "#7fbc41"
            ],
            [
             0.9,
             "#4d9221"
            ],
            [
             1,
             "#276419"
            ]
           ],
           "sequential": [
            [
             0,
             "#0d0887"
            ],
            [
             0.1111111111111111,
             "#46039f"
            ],
            [
             0.2222222222222222,
             "#7201a8"
            ],
            [
             0.3333333333333333,
             "#9c179e"
            ],
            [
             0.4444444444444444,
             "#bd3786"
            ],
            [
             0.5555555555555556,
             "#d8576b"
            ],
            [
             0.6666666666666666,
             "#ed7953"
            ],
            [
             0.7777777777777778,
             "#fb9f3a"
            ],
            [
             0.8888888888888888,
             "#fdca26"
            ],
            [
             1,
             "#f0f921"
            ]
           ],
           "sequentialminus": [
            [
             0,
             "#0d0887"
            ],
            [
             0.1111111111111111,
             "#46039f"
            ],
            [
             0.2222222222222222,
             "#7201a8"
            ],
            [
             0.3333333333333333,
             "#9c179e"
            ],
            [
             0.4444444444444444,
             "#bd3786"
            ],
            [
             0.5555555555555556,
             "#d8576b"
            ],
            [
             0.6666666666666666,
             "#ed7953"
            ],
            [
             0.7777777777777778,
             "#fb9f3a"
            ],
            [
             0.8888888888888888,
             "#fdca26"
            ],
            [
             1,
             "#f0f921"
            ]
           ]
          },
          "colorway": [
           "#636efa",
           "#EF553B",
           "#00cc96",
           "#ab63fa",
           "#FFA15A",
           "#19d3f3",
           "#FF6692",
           "#B6E880",
           "#FF97FF",
           "#FECB52"
          ],
          "font": {
           "color": "#2a3f5f"
          },
          "geo": {
           "bgcolor": "white",
           "lakecolor": "white",
           "landcolor": "#E5ECF6",
           "showlakes": true,
           "showland": true,
           "subunitcolor": "white"
          },
          "hoverlabel": {
           "align": "left"
          },
          "hovermode": "closest",
          "mapbox": {
           "style": "light"
          },
          "paper_bgcolor": "white",
          "plot_bgcolor": "#E5ECF6",
          "polar": {
           "angularaxis": {
            "gridcolor": "white",
            "linecolor": "white",
            "ticks": ""
           },
           "bgcolor": "#E5ECF6",
           "radialaxis": {
            "gridcolor": "white",
            "linecolor": "white",
            "ticks": ""
           }
          },
          "scene": {
           "xaxis": {
            "backgroundcolor": "#E5ECF6",
            "gridcolor": "white",
            "gridwidth": 2,
            "linecolor": "white",
            "showbackground": true,
            "ticks": "",
            "zerolinecolor": "white"
           },
           "yaxis": {
            "backgroundcolor": "#E5ECF6",
            "gridcolor": "white",
            "gridwidth": 2,
            "linecolor": "white",
            "showbackground": true,
            "ticks": "",
            "zerolinecolor": "white"
           },
           "zaxis": {
            "backgroundcolor": "#E5ECF6",
            "gridcolor": "white",
            "gridwidth": 2,
            "linecolor": "white",
            "showbackground": true,
            "ticks": "",
            "zerolinecolor": "white"
           }
          },
          "shapedefaults": {
           "line": {
            "color": "#2a3f5f"
           }
          },
          "ternary": {
           "aaxis": {
            "gridcolor": "white",
            "linecolor": "white",
            "ticks": ""
           },
           "baxis": {
            "gridcolor": "white",
            "linecolor": "white",
            "ticks": ""
           },
           "bgcolor": "#E5ECF6",
           "caxis": {
            "gridcolor": "white",
            "linecolor": "white",
            "ticks": ""
           }
          },
          "title": {
           "x": 0.05
          },
          "xaxis": {
           "automargin": true,
           "gridcolor": "white",
           "linecolor": "white",
           "ticks": "",
           "title": {
            "standoff": 15
           },
           "zerolinecolor": "white",
           "zerolinewidth": 2
          },
          "yaxis": {
           "automargin": true,
           "gridcolor": "white",
           "linecolor": "white",
           "ticks": "",
           "title": {
            "standoff": 15
           },
           "zerolinecolor": "white",
           "zerolinewidth": 2
          }
         }
        },
        "title": {
         "text": "GMM Clustering (KMeans Init)"
        },
        "width": 700,
        "xaxis": {
         "title": {
          "text": "X1"
         }
        },
        "yaxis": {
         "title": {
          "text": "X2"
         }
        }
       }
      }
     },
     "metadata": {},
     "output_type": "display_data"
    },
    {
     "data": {
      "application/vnd.plotly.v1+json": {
       "config": {
        "plotlyServerURL": "https://plot.ly"
       },
       "data": [
        {
         "marker": {
          "color": {
           "bdata": "AQEBAAEBAQEBAQEBAQEAAQEBAQAAAAEBAQEBAQEBAQEBAQEBAAABAAEAAQEAAQABAAAAAAABAQABAQAAAAABAAEBAAAAAAEAAQEAAQABAQAAAAEBAAEAAQAAAAABAAEBAAAAAAEAAAAAAQAAAQAAAAAAAAAAAQEBAAEBAAAAAQEAAQABAQABAAAAAQAAAQAAAAAAAAAAAAAAAAAAAQEAAAABAQABAAABAQAAAQEAAAAAAAAAAQEBAAEAAQAAAAAAAAEAAAABAQEAAQEBAAEAAQAAAQABAQAAAAABAQAAAAEAAQAAAAABAAABAAABAQABAAAAAAEAAAAAAAEAAQEBAQEAAQEBAQEBAQEAAAAAAAABAAEAAAEAAAEAAQEAAAAAAAAAAAAAAAAAAAAAAQABAAAAAAAAAAAAAAAAAAABAAAAAQABAAAAAAEAAQAAAAABAAEAAQAAAAEAAAAAAAAAAAEBAAAAAAAAAAAAAAABAQABAQEAAQEAAQAAAAAAAAAAAAAAAAABAAABAQAAAAAAAAEAAAAAAAAAAQAAAAAAAAAAAQAAAAAAAAAAAAAAAAAAAQEAAQAAAAAAAQAAAQABAAABAAEAAAAAAAAAAAEBAAAAAAAAAQAAAAAAAAAAAAABAAEAAAAAAAEAAQABAQAAAAAAAQEAAAABAAAAAAEAAAABAAEAAQEAAAABAAAAAAAAAAAAAAABAAEAAAAAAAAAAAAAAAAAAAAAAAAAAAAAAAAAAAABAQEBAQA=",
           "dtype": "i1"
          },
          "colorscale": [
           [
            0,
            "#440154"
           ],
           [
            0.1111111111111111,
            "#482878"
           ],
           [
            0.2222222222222222,
            "#3e4989"
           ],
           [
            0.3333333333333333,
            "#31688e"
           ],
           [
            0.4444444444444444,
            "#26828e"
           ],
           [
            0.5555555555555556,
            "#1f9e89"
           ],
           [
            0.6666666666666666,
            "#35b779"
           ],
           [
            0.7777777777777778,
            "#6ece58"
           ],
           [
            0.8888888888888888,
            "#b5de2b"
           ],
           [
            1,
            "#fde725"
           ]
          ],
          "opacity": 0.7,
          "size": 6
         },
         "mode": "markers",
         "name": "Data points",
         "type": "scatter",
         "x": {
          "bdata": "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",
          "dtype": "f8"
         },
         "y": {
          "bdata": "9LM8Qq5ecsDw4c8xp0IvQFZPoSkQlENAPhr0KFfYUMD6weFa56pnQN08WRQo+FPAXk14YiiTR8AMpc6p54tSwPvY388wEEXArM2Ch7xYUMAwP4GFnbkxwDqQC2QZTlvAUCf37ZLmZEC/ZVZmXetbQJTh9WBuqD1ANA8gLPolPcDqBPi7PRtbwLAVvEOziVnA5hXrZ1XlcMBwUGvvsoQoQACszoleHS1ApkJOf75JQMBYsuIhNFIiwFS46gojQ3DAfmD5hyT1fcCOOGyVoPtTwLwjHvwC/DDAXYD6Qsc0WkCOEGBgtupgwPP0ftuYWVNAIEt/B4F0Q8AnwDwt7nVnwDgnqbxFOj/A+XTLMr0eScCbbJdDF8VQwOAV8vu96QZAxLWXIBBdN0Ain7FujcROQPybUJ5rk2BAgM14nRgcIsBQgj7i/68+wO8++y67ZkrAQFtIRBdYLsARRjyGDutawOJ7fgdTikDA0LkCuuQVEUBu1TOWzGlMwHy+ESzhAUTAPOx6JCQ3NcBAAZ9UbeErQHB2MYdbRxXAitLjq7eQRkBgDdPixJAEwEljuAzp3FdAkHkHmyAoPMAwkV6xJSQwwJMgvaC+5GzAKFo2GgZVSsBEQzqi7O43QNRJtIOBJkvAxAJ3CTm8O8ARZ1O+DxVMwI6eG4QnPEjAqnL/30+cRMCA8+PVYDFhwMj4tfaZCyfAaMM2h/RwRsC4MoERr+sgwOp3YUPi5UzAJufHX/FaQ0ALtUHhSUJawF6ktowyHUXAfvgrLl+VZsAQh2eUcAQ5wMCump8gmDHAFHXIOMgZQ8CuCUFLWaxOQGwfBlu2WlPAW9g85L4kXkBwkMLDLlAcQESieY+kOUDAVNRo0BOsNkCwZKY6lrBlQPgo/T+M/WdAwE2/fUvXMsCAw0eT5fIuwAw6agYqpD9AIHaTZj0vOcDAh02q56AGwHIIIV0b60JAGmNbrhxWR0AxcClnBi1WQK58VbFmLU/AONxnabprIUDwMPYzMEQ/wMs2YEZCdVFA1IkDhPvAOUDWaEVx6tNEwLzZeunkQTDA9GlI0KyYMUDjbrMkgNVSwAIJtr6RWVPAcHuFDOhzEkACDFeck+lBwLDTsJ9o5DjAg/5g2PGwU8B8lbSt5DU1wBjrb03G/ypADllw7TxGQsDK2soV7pZAwPdxg7Wb1UbAAvDdoc8TQUDnsekvEQ1RQEAup34bYifAWy2yjJ/gSsD0hS29G7A+wPYn512f50DAa+Q3KKbgVcCDrBOrvW1XwFPUK2LNmlRAgL3LdP44N8Botioni90sQIsJ5F2uinRAZh2tG5wmTUAWOmQerCFFQCzA2BbepzdAQBIP93gMS8AjbNDp2AlSQLfwv71Sp1NAyWfzSVn1VkDAef2IjKsOQLq+GogtMk/AZAWwHhI4NMDXiW+GNGxRQGB5KKdl2SHACAEadm0II8AUV0qRCp44wICZWzB1bvG/xJ6qUHuXOsAAcY2pV/LrP6oGURHBUUHAUw1E1RCxR8CM6g6np+U3wIAxqeI0EOw/DC5aPExvPMCAgkN4cigGQI5T0w2QVUTA8QaGmKKsUEBirIErz0dHQHzYFGHohTRAODbmfxotNUA6Cjx0ZIlNwDjiE3sS7UXAMGBUy65qFcAgtDsHTIAZQOCCo7XQ4ALAutswPeEGR0BrLBpI8JJcQED1PaKj3Q9AKiP8u2TEQMDsSSqAYk06wIcWyqBo0VtAbYGKebTna8AQvvq/H3ocQPmXRUt90lZA3yt55f9TVECI2tRfHHIowIDvGkqRmfM/nL6I80yMXsC3sUy9MPFRQJAXJYrg0iFAdEjVKajsYMBCDniYRzFGwEhlhw33nSNAqKIW5M0vMMB0f5X5qOtFwJfgfKmwmkfAq8t/wLUVWUCMIMOzbe0+QHJpoD7S+EFAzr7KRfTnYkBQEraaoHBQwKyBCLxXjlrAwBYfmDMP/L8AyOuV6HXYvxC3QlL1Vk3A3nQ8vjGsS0AAnCU5988swOjEUgBl/iJAaNdUAfmFI0BsP+0MjQY3QPTFh3b4Vz5A2HDDt8lxLcA2Clf+XIVXwJWviK3xEVBA9CJRn6jSOkAoR4sJsAwywPYRij8g+GBAIH83xiJXBUDeGDHiSthXwPb4B52SI0TAx1mKje77UEBy879/rDZzQA+Fd85DzGfAJibh7l9iRcBApYaNzBINwHijnPiD6jbA1lMzwuZLRUDEjEQdU/IxQGZ7hbXTuUBAru7nOemmYUAIQs6V/700wERD3KP3HIdANM3QoENHZkBAGQ+WJnz8v+BsYUONCgdAIHm1EQ1kIsBg/uUwjxtDwJgMpER6ZlfAjXWx73Z0dcD8aldoSBgxQKgTTCzv3TRARHvFJw2LPsC8JUHh25swwICbPvZvfQ3AsC4OCHxhHsDosfhrQ6k6wALaW0RLkU9AQPctfWCdBMByw1A8Y4tDwHrRng8QxkZAAP4pPJkyxD8wY2cQyTkxwF4RG11tlkpAnPYK1otcQ8CeaYQY8sxEQFyKbE8tY2nA4XikizlqWkC6/fFTtPdAQMrxeZvKVEfAJvumXO8yQUD8o3HPHEo2QFCldVIYPS/AuvX7NZGcQUDEJDvk3rRiQKDwgYJ8pzfAnhgZ67HIR0AAFqoap50LQIFnAe7CpEXAiKKWzUndJcA4ALC0tro0QIQ/KxRG4jLAN9gL7ymrUsA+iAkFt1VMQJg2PHEwuF/ATI11p9VbMMCkJeJ0dIRRwMwo/JklmTlAH+bpnx4sU8BgYYVaFJ0KwMYcbf4GiURAwrDqEpVjT0DqcSP6XvNBQDo50VQVQEBAcQDosoNFS8BQo+ASQvyEwEACMgkfZjvARuzmipq1QECsKMX7K9g4QKDpiEiIQjXARx+QRvCnVEC4NFJoCokhwH2jbSLLM1DAVDPEgxzyQ8BFBVns5oJQQES/7EG+gjhAgGVnPIHT+7+Inj1eOr9oQIAgpTLadQVADvExg+PWSUBAa2nApZY4wJgk9+0VOC3ADHVP2LlUP0B6NgHWoGFJQAR73RBSxz1AnLJzNg1QNkAgkaeKZ9QiwM5jFyzkWENAQMuK2ka1G0Cg6OsHvQ0IwF4z7rXXEkxAjaDNXFomUEDSKLcGlEBAQEDvqTPtQv+/RJ+ytRqAPkDq5574RSZKQKAoCFvNHxFAHBgv83ipNcBA11ECFsspQMDb8/Eh+xbATHf3sRTdX8CIPUoP5+0rQK3GzgxQ+lRAgO7kzbapKMA4c+aF2jwpwEDCHaj5oxhARPyJ9L7gOUCEYqvHhpVEwJieB8JHkjJAAJj4Giv7/D/wssMQdi0QQHQ8gxPROj1AsIRKPM0XHECAQjdN48MPQPhh/jEqikPA3GCSzUtJOkCkmwnkuTE5QOChITphchJAj53T3AQ5SMBijrzi4LZCQJBEQeDVmTzAvTx9u1GoX0Bg/UyQzo4xQMy6i8m3zTvAUJHSdKJVLMD8DHKM084xQEa2rIBejEFAEJXh6UBHGkAIGrL0rHomQIEsylqFmFhAuAk1C3ZBNEBQc9O+LqodQIAIZhPASvo/eHstmkd7OcDQcfeFY8MmQGz1Gn12EDjA/trzDpb9QkBOn43GAqhhwK7rIBT5eULASfHLOj9iXcCAee5nK6L+v4amMvMNkEfAYNh24oibJ8DTvtxUEMBdQPAgr508RSfAGHxPO80QK8BozwVLDdkswNj0ZMZuvCdAQPwAoHUhF8BQw6p6ruoRQEgKrG/aszjAbXEt00LXUUA2izbdPl5PwGJ9hOoEhkHA0P3Oh+kNI8C0fK6vUnE8QAxEGwRGHzxAIqV5rjwlRkD1zZFqyQZLwEy83Fu+XFfA8PVTrso0K0Aq8OqvUsJEQEB0MwKQujRAT3Wh6IyNVkC8MF220/c4QGG+pK40v1NA9wTkb9dfVUAUFySXa6tBwDEIhj/yxHnAOHphMoLlIUCobvqOUHomQG3NNfvJMVRAh4HLvaXdcUAs+2+6n6M8QOIwtuuMGUZATasCYEYjX0Dg5X03sPILQKSxLClfKjhA7tPUKw9ISkAtX/lwg9xMwERpIGGE3DPA1J1ZJ8ySMMBsdSd+SE46QDhP0Q5l0DLA9gPvgMZcQkCDIUXKy/xRQHDQ16kfEDFAcPPnzFljNEBACS9bVr71vw4wXDGZfmtA8DZRHft/QMCge+sv1O5QwNZNAYz4amXASEk7E3BbNEDo97dHos8nwG6ymaxYSU9AhCO1vQbgN0D0+5zK3xA5QKjUjTBP1kLA4HWhVkWGOcCvyU9HKLVRQKDHL/xKiD7AHCff0XBYN0Acxb9whY89QJDg4waThjVAkKHLgf8AQMC/FPmUV1dWQEAscpWARP0/+sJZeEyVRkB0rH0VBUw1wDLwyTVWEUDA9OLosMXTPMBYdO8Puf09wOZQoC/cH0RAnFZxY2PKPEDAAZVzvM4MwER3NJ5FG03AFot6nGwudMD09DBrdhg6QFhrvtnJoS/AjDjdbAYCN8CCAO6q+VpDQIDWoJtvLOu/7H97u9grNUCQ7b5AFZ1KwBz4qMArC0LAYErgG4ZFR8B2b8upi95IwOBj/DGnSRBAvB7uG9EZNUB2nDUWkYJJQPSU8QUOaT1AkmBNoKLVaEBYkcu9OUItQPGvr19zb1FAvn1FkG/NRMCgc1QcXEYcQDQFiksfhj5AmHG+u6HqLUAG4SEc4xhNQIgyNUL9ZUDAHL04UK7xOEBMRZfXzHc/QEAquaJHDf+/g4FSE6ZRUkDweVr8W/UdQNhlsi+d5SLA5iqdwTPTRUD0xvhlxBs+QFydekna/z5AwAsFHnJcCEDoPMbXjUNmQODWnCoWuAlAmoUqqOF6TUBY9ghmguEkwCBMwluFLhxACHIYyehSNsDcyzAj3UY8QOjPuaRI5i5AjsWoHLlHQsCjD2Z4KENkwJpZy92OYGXAlY16ltIJUUDgaD5oTiQdwABjNOWqF+C/kNN2uyNnM8BA+7gqKnX3v/jSxJpKAEzAUJ0+TkBbI8CkVPCxy4E7wB6DwyVMGEzAgG4Ff4v+KcDI7oFlkwcsQDAgRw4jfxJA6KVku4MRNcAMH7Xt+g0wQNBfbIPGURDAnqyCkxI4QkAAbDP0BdraP/GGKxBD3VpAYJjLwaibAEDUAdl9Yo8ywHwEo84vpzVAfL/c/1kePUA9kheAdz1XQEA4kTd0TwxAHkLjkUeeQUDgzughKP4fwIgd84UP0jzAde3Vx17xUEBknR5Wba87wB/l0bUsa11AcM/eTmiCMkCEZlk+eQw8QHAiI+vZGjVAVTBaIrQpUkCo7AEsAJkwwACUIQI3HR/ADM0FywyvM8AHqYQkPCZcQALSO/QpFkVAYHOz9orVAcBkaFgCvd4xQKIk9R8MG1vA31PSFq0nR8AcwIL1gjREwERF51LQ+TBAgAohdQvbCMDXw8GBpSBdQC4K49lPU0lAyLg0aue6LkB5GBLs/CxVQI7hfmsMSlDA+KmrvwN8KkDwpgWpok0SwBitrtAZCzHA+ApvyRAANkCXNVqKO0NUQJwA6JCmUD/A8FXOcRkvEsDWiroLVjNKwJcy/SlpEllAoBKv08VqAkBkc2l1Yxo1QBHQhnMBDEjA5pZZqUG3TMBgtJtYxDsVwFBsSHHHXRFAmxZ23SehUEBgNFFfHKoewOg9c3lfHTzAuhnB5eaOQMA4SoEjv44owDCIn0XbUGNA4LUQUjwDAcBnzdSwxkRTQJbKrhxmzUxAqKPlzUFtIcBx/2FlQfRTwPNu9t+HlVLAALf9uaByD0CCGi1yxUdDQC6BtRZM6ENAxA8VoANsPkDKPdYWvOhDQGBI85VNtiBAjMxLzm9POcDIue8U5wstwEhalXgHHkjA4ISJDNZGTMBQBz50xQgiwLC0lO2JHxnAlLvaGMJfNkDEcCthHk0/wBxohpiRXjtASPWcQnOMLMDIszZiKQsxwMEO8aR9mkXAI767hBmbU0DAlZ5E8YIRwOKV9/SP3EVAgFAFhmF++L/SDbcJ5aFBQD8vpP0vZlpA8UOcTz2OW0Bh78OHr0NTQApSy+nZxkdAmlOecYoQQUC+uJenKClWwA==",
          "dtype": "f8"
         }
        },
        {
         "line": {
          "color": "black"
         },
         "mode": "lines",
         "name": "Component 1",
         "type": "scatter",
         "x": {
          "bdata": "ALfhZf92iMB0tRc3Tm2IwKX1M8JMVojAMC4xvhIyiMBkiOqCxQCIwIseneKXwofAn7+E9cl3h8Dk+MnXqCCHwMKABVqOvYbApvKqpOBOhsCWS7rOEdWFwA61JGifUIXAF9ld+BHChMDJK59x/CmEwC09bpn7iIPAejgCZ7XfgsBKJi9Y2C6CwGFMh70ad4HA1hRs/jm5gMBybaCr8+t/wMbE6BBHXH7A0dncKgrFfMDUsKHD4Cd7wJg6m8B0hnnAVnlma3Tid8Aixky2kD12wCRv+X17mXTAnLo9yuX3csBTU7APflpxwHyC6OfchW/A0ajhLLZlbMCuqH6+wFdpwI6+GawiX2bAfmNNBex+Y8B4MLqxE7pgwDJydsXoJlzAgIxeRJMbV8AcvL4CWldSwJizp6tNvkvA8CTXaSpvQ8Ag2ErmtZM3wOC5iKsDWSPAgCEBtJNHBkAgeKh4nn8rQMDH1xvHLDdAQIcGviIGP0D4i1xs5aFCQDgl40Ko70RAePJV8vlpRkDwafR/VA9HQDBofngN30ZAGFnon1bZRUC4mA6+Pf9DQMjtnIirUkFAYI+RVsOsO0DwGsvg7xszQOBRAzNi9yFAADaC1kZMBcAA8aK+eY8vwBC2nj5lUT7AOCGZzcIbR8AQzf8w3bRPwCDB1WuSdVTAdLApZY1aWcDc+hDrU4RewCGY4bzJ9mHA7FPOD1zIZMAgjYke+bNnwLiDF0GetmrAYpSuETHNbcDnicxPQXpwwCsWolupFHLA1OUMnim0c8BnqljIFVd1wGIC6gS++3bArGZjtHCgeMBG9qEsfEN6wBJcxXcw43vA/P91EeF9fcCfg56g5hF/wACa6FXQToDAiMtLo7sPgcAuxfha7sqBwPw+KYWnf4LAlBW71iwtg8CuVzlxy9KDwFQRPpvYb4TAbMRucLIDhcBGJV6IwI2FwNYUp5N0DYbA+OWe7kqChsAEtgcpy+uGwJb3NoKISYfAeDUwWSKbh8BffkCQROCHwBfMs+OnGIjAlgRLMxJEiMBT2ya+VmKIwC3P6VBWc4jAALfhZf92iMA=",
          "dtype": "f8"
         },
         "y": {
          "bdata": "5NU+4yX8SsAKsQE2HlFMwPWzPuK2h03Au32TvK+eTsBgXvYy6ZRPwPqzkrqyNFDAsa4kvaSNUMDCZV/x7tRQwPlGjtpHClHAv3LaengtUcDqefqLXD5RwCvflqTiPFHAgNA8SgwpUcBJmMzv7QJRwBhkZeCuylDAjRvkFomAUMA3CB8CySRQwHrUN2yab0/A/2IjFQx0TsBltTRO6ldNwKGgGPtZHEzAEikKZqDCSsByoYHwIUxJwD4716NgukfAzLhTo/oORsA4dEmBqEtEwGbK7Xg7ckLAPBDHjpuEQMAb2Doziwk9wCZH6muS6TjA6x1eTI2tNMBlp/9C2VkwwJLrAFDY5SfAsJdCkT71HcBNVEAh5OwHwE4ctmCgePg/2je9pew1GEAsTaOIGh8lQLzhKGU1Ei5Ad5X8l4Z1M0CCf3OhQdA3QDbKVLjOFDxAKsx30WMfQEBaSbvG8CRCQHXqWLv4GERAwpbxPXj5RUAwc7f/f8RHQB/WANM2eElA/HoLk9sSS0DsKfnyxpJMQPGRKDJt9k1AWIkotF88T0Bnl1A9pzFQQN+t1r8EtVBA+bCf98AnUUBmAyefZYlRQDv6VA+O2VFAvSNAp+cXUkCPKFohMkRSQC96sNU/XlJAaoP86PVlUkA811JoTFtSQG7UVFFOPlJAvEvchhkPUkAo1iyy3s1RQFudyhDhelFA6EoqL3YWUUCikYGQBaFQQAU4E0QIG1BAtkPJ0BAKT0AJ+Lo5Qb9NQHqcyMT2VkxAnn8416TSSkC7ePK62zNJQMyV3wFHfEdASIYqzautRUBxFyf65slDQNpAwjbr0kFAYO7q/n2VP0CwVJ4R9WY7QBC+bi2LHjdAJ1JUh6rAMkDaTcnopqMsQAC+8osvrSNA+DRCT1hOFUB24jwgn67pP5XidLoNuQ3Api8fgQtrIMB/4XuTKlIpwImYyqM5DTHAcEN+BGxdNcDc3/owOpU5wP15CxNLsD3Ao4lEmjHVQMB11RqOtL9CwFMYx8O0lUTAjxucvk1VRsCqa+wZsvxHwNqSp2QtiknA4tU+4yX8SsA=",
          "dtype": "f8"
         }
        },
        {
         "marker": {
          "color": "black",
          "size": 10,
          "symbol": "x"
         },
         "mode": "markers",
         "showlegend": false,
         "type": "scatter",
         "x": [
          -368.3674183901249
         ],
         "y": [
          2.297186888354774
         ]
        },
        {
         "line": {
          "color": "black"
         },
         "mode": "lines",
         "name": "Component 2",
         "type": "scatter",
         "x": {
          "bdata": "DG115/q4hcB2FROSwaSFwJTTTe9qZIXAjF1vUTn4hMAoOcU/nGCEwNRuqQMwnoPAEghoB72xgsBOa6cHN5yBwIaKKBi8XoDAnMbD+Sb1fcCAl0qxWOJ6wCSZWGU4iHfACEwiqTrqc8DA0cYEGgxwwFByuDqm42fA2K5UY4J+XsAAIOQPts9IwGCIrO8QqDlAgAdXCrXjWUAs+9oDkvhmQCfYH2Npn3BAj5T/vALddUAaKoYcri97QBJeM2v3SIBAV1yCFxz/gkARw3yJebeFQKHLIe1Bb4hACh8XCKgji0CwXP4c4tGNQJEPmWWWO5BAZAr682aIkUBmQg6nC86SQBSxstA0C5RAlOo7gZs+lUB6bHnYAmeWQGAQWkw5g5dANuzg4xmSmECm9iVljZKZQL0fK3WLg5pAyCldqBtkm0BdW6eCVjOcQGMSEmZm8JxAoD72boianUD8xuI8DTGeQNbCZKdZs55A3Cz4Xecgn0CdMHxyRXmfQCdanM0YvJ9A9ae2jBzpn0Ac2m4kEQCgQIThViOJAKBAA2fDjuvrn0C5hLruw8CfQPWttOLHf59A8v99Zzopn0BfyX+1dL2eQGomyOTlPJ5A5WCFehKonUC4IGvgk/+cQFM9jsYXRJxAAzRacF92m0CO0ljtPpeaQB5ymT6cp5lAURiZaW6omEC45J95vJqXQOZGmnCcf5ZA5n6FKDJYlUA10ZYmriWUQGCMU2FM6ZJAh3Xd+lKkkUDhWMPwEFiQQEKVYIW5C45AcBq7IiZei0CCGmZuKqqIQKbLEbiP8oVA9csCCyM6g0CyI+1KsoOAQKpZ4J8SpHtAY2RcCd5PdkAe2/ASRRBxQMg4C35h1WdAqF5V+LyRW0Bw9wO1cxVAQKBGuIxKrEXAWEgilmr9XMBgiXnJLyxnwEyIryuQam/AgMjcgquYc8C8g2oaQDx3wASKbJFFnHrAbHD/QEG1fcCWnkXeAEKAwFjgMA7RgoHAKCG+fMabgsDgm6KLv4uDwHSdV9zEUYTAgN8YTwrthMBU6E7V71yFwAqKjBYCoYXADG115/q4hcA=",
          "dtype": "f8"
         },
         "y": {
          "bdata": "Ym8+9+wPLUAQ9ZHCgykFwLo99zz30zPAM//Yu1N5QsCBqK+xzfdKwA+gVgBUrlHAeRSqyZ3PVcDZYqtUgttZwOxgQ8/VzV3AFwwTYUPRYMDKyzEh0apiwO6vvQGscWTAdxzgIv8jZsCqg3/OCsBnwCAYwkUmRGnAognkdsGuasAh+J2ZZv5rwEWAcrC7MW3A6LNV7YNHbsDc2D74oD5vwMDlKQsKC3DAYeA+mH9mcMCFXSzcUrFwwAPaSLU263DA4Y/1du8TccDZ7iEnUytxwATjkKlJMXHACk+z2MwlccAeG/6L6AhxwORQtYu62nDAVNk4cnKbcMAsgvJ6UUtwwBbAL35U1W/A5LsKwcDzbsDSfRRG0PJtwC3gHumL02zAZWwpyRuXa8Bh3CEXxj5qwGNqpcXty2jAMIsdGxFAZ8DEPLEnyJxlwHMdoSDD42PAj+a/osgWYsAhjdLdszdgwEE1dlXlkFzApFbOHAeWWMDaqR1X54JUwCndxEq5W1DA2e9U1YlJSMCGKwKyiYk/wCg4OnKuxyzAHCG2CrZiBkDSlHNwSPUzQBwEW76mgkJAsIjzn2f1SkC4YqK5GKVRQIXXBtk2vFVA+Q7qyda7WUAXaZtf2Z9dQA6NVPIdsmBA21idHo6CYkBkZ+hzXj9kQK/VJGzE5mVAroeYlAt3Z0ARnMZPl+5oQMaVxH7kS2pAacpHEIuNa0Agu89zP7JsQFy9bu/TuG1AqKHQ1jmgbkD5uz6igmdvQPLXQHLwBnBAcsVRj1RJcEDT8Vs4qXpwQLLheZO7mnBAD/RBkWqpcEAyp9oOp6ZwQAPglOVzknBAoB785+VscEAHp1/MIzZwQCx81QnM3G9AETvqCu0rb0AJM4/uYFpuQEEZR7b/aG1A3tDbM8JYbEC6W+EIwSprQO//bYUz4GlAENQxZ256aEAofzh64vpmQLo9vxwbY2VAvA2np7y0Y0CeHie9gvFhQHQufn8+G2BAXXX0YqlnXECciImFd3pYQCaD7ZPzclRA20AU3URVUED1dj0TU0tIQDP+4PDIoT9AiG8+9+wPLUA=",
          "dtype": "f8"
         }
        },
        {
         "marker": {
          "color": "black",
          "size": 10,
          "symbol": "x"
         },
         "mode": "markers",
         "showlegend": false,
         "type": "scatter",
         "x": [
          676.8594436978253
         ],
         "y": [
          -4.220983077487067
         ]
        }
       ],
       "layout": {
        "height": 600,
        "showlegend": true,
        "template": {
         "data": {
          "bar": [
           {
            "error_x": {
             "color": "#2a3f5f"
            },
            "error_y": {
             "color": "#2a3f5f"
            },
            "marker": {
             "line": {
              "color": "#E5ECF6",
              "width": 0.5
             },
             "pattern": {
              "fillmode": "overlay",
              "size": 10,
              "solidity": 0.2
             }
            },
            "type": "bar"
           }
          ],
          "barpolar": [
           {
            "marker": {
             "line": {
              "color": "#E5ECF6",
              "width": 0.5
             },
             "pattern": {
              "fillmode": "overlay",
              "size": 10,
              "solidity": 0.2
             }
            },
            "type": "barpolar"
           }
          ],
          "carpet": [
           {
            "aaxis": {
             "endlinecolor": "#2a3f5f",
             "gridcolor": "white",
             "linecolor": "white",
             "minorgridcolor": "white",
             "startlinecolor": "#2a3f5f"
            },
            "baxis": {
             "endlinecolor": "#2a3f5f",
             "gridcolor": "white",
             "linecolor": "white",
             "minorgridcolor": "white",
             "startlinecolor": "#2a3f5f"
            },
            "type": "carpet"
           }
          ],
          "choropleth": [
           {
            "colorbar": {
             "outlinewidth": 0,
             "ticks": ""
            },
            "type": "choropleth"
           }
          ],
          "contour": [
           {
            "colorbar": {
             "outlinewidth": 0,
             "ticks": ""
            },
            "colorscale": [
             [
              0,
              "#0d0887"
             ],
             [
              0.1111111111111111,
              "#46039f"
             ],
             [
              0.2222222222222222,
              "#7201a8"
             ],
             [
              0.3333333333333333,
              "#9c179e"
             ],
             [
              0.4444444444444444,
              "#bd3786"
             ],
             [
              0.5555555555555556,
              "#d8576b"
             ],
             [
              0.6666666666666666,
              "#ed7953"
             ],
             [
              0.7777777777777778,
              "#fb9f3a"
             ],
             [
              0.8888888888888888,
              "#fdca26"
             ],
             [
              1,
              "#f0f921"
             ]
            ],
            "type": "contour"
           }
          ],
          "contourcarpet": [
           {
            "colorbar": {
             "outlinewidth": 0,
             "ticks": ""
            },
            "type": "contourcarpet"
           }
          ],
          "heatmap": [
           {
            "colorbar": {
             "outlinewidth": 0,
             "ticks": ""
            },
            "colorscale": [
             [
              0,
              "#0d0887"
             ],
             [
              0.1111111111111111,
              "#46039f"
             ],
             [
              0.2222222222222222,
              "#7201a8"
             ],
             [
              0.3333333333333333,
              "#9c179e"
             ],
             [
              0.4444444444444444,
              "#bd3786"
             ],
             [
              0.5555555555555556,
              "#d8576b"
             ],
             [
              0.6666666666666666,
              "#ed7953"
             ],
             [
              0.7777777777777778,
              "#fb9f3a"
             ],
             [
              0.8888888888888888,
              "#fdca26"
             ],
             [
              1,
              "#f0f921"
             ]
            ],
            "type": "heatmap"
           }
          ],
          "histogram": [
           {
            "marker": {
             "pattern": {
              "fillmode": "overlay",
              "size": 10,
              "solidity": 0.2
             }
            },
            "type": "histogram"
           }
          ],
          "histogram2d": [
           {
            "colorbar": {
             "outlinewidth": 0,
             "ticks": ""
            },
            "colorscale": [
             [
              0,
              "#0d0887"
             ],
             [
              0.1111111111111111,
              "#46039f"
             ],
             [
              0.2222222222222222,
              "#7201a8"
             ],
             [
              0.3333333333333333,
              "#9c179e"
             ],
             [
              0.4444444444444444,
              "#bd3786"
             ],
             [
              0.5555555555555556,
              "#d8576b"
             ],
             [
              0.6666666666666666,
              "#ed7953"
             ],
             [
              0.7777777777777778,
              "#fb9f3a"
             ],
             [
              0.8888888888888888,
              "#fdca26"
             ],
             [
              1,
              "#f0f921"
             ]
            ],
            "type": "histogram2d"
           }
          ],
          "histogram2dcontour": [
           {
            "colorbar": {
             "outlinewidth": 0,
             "ticks": ""
            },
            "colorscale": [
             [
              0,
              "#0d0887"
             ],
             [
              0.1111111111111111,
              "#46039f"
             ],
             [
              0.2222222222222222,
              "#7201a8"
             ],
             [
              0.3333333333333333,
              "#9c179e"
             ],
             [
              0.4444444444444444,
              "#bd3786"
             ],
             [
              0.5555555555555556,
              "#d8576b"
             ],
             [
              0.6666666666666666,
              "#ed7953"
             ],
             [
              0.7777777777777778,
              "#fb9f3a"
             ],
             [
              0.8888888888888888,
              "#fdca26"
             ],
             [
              1,
              "#f0f921"
             ]
            ],
            "type": "histogram2dcontour"
           }
          ],
          "mesh3d": [
           {
            "colorbar": {
             "outlinewidth": 0,
             "ticks": ""
            },
            "type": "mesh3d"
           }
          ],
          "parcoords": [
           {
            "line": {
             "colorbar": {
              "outlinewidth": 0,
              "ticks": ""
             }
            },
            "type": "parcoords"
           }
          ],
          "pie": [
           {
            "automargin": true,
            "type": "pie"
           }
          ],
          "scatter": [
           {
            "fillpattern": {
             "fillmode": "overlay",
             "size": 10,
             "solidity": 0.2
            },
            "type": "scatter"
           }
          ],
          "scatter3d": [
           {
            "line": {
             "colorbar": {
              "outlinewidth": 0,
              "ticks": ""
             }
            },
            "marker": {
             "colorbar": {
              "outlinewidth": 0,
              "ticks": ""
             }
            },
            "type": "scatter3d"
           }
          ],
          "scattercarpet": [
           {
            "marker": {
             "colorbar": {
              "outlinewidth": 0,
              "ticks": ""
             }
            },
            "type": "scattercarpet"
           }
          ],
          "scattergeo": [
           {
            "marker": {
             "colorbar": {
              "outlinewidth": 0,
              "ticks": ""
             }
            },
            "type": "scattergeo"
           }
          ],
          "scattergl": [
           {
            "marker": {
             "colorbar": {
              "outlinewidth": 0,
              "ticks": ""
             }
            },
            "type": "scattergl"
           }
          ],
          "scattermap": [
           {
            "marker": {
             "colorbar": {
              "outlinewidth": 0,
              "ticks": ""
             }
            },
            "type": "scattermap"
           }
          ],
          "scattermapbox": [
           {
            "marker": {
             "colorbar": {
              "outlinewidth": 0,
              "ticks": ""
             }
            },
            "type": "scattermapbox"
           }
          ],
          "scatterpolar": [
           {
            "marker": {
             "colorbar": {
              "outlinewidth": 0,
              "ticks": ""
             }
            },
            "type": "scatterpolar"
           }
          ],
          "scatterpolargl": [
           {
            "marker": {
             "colorbar": {
              "outlinewidth": 0,
              "ticks": ""
             }
            },
            "type": "scatterpolargl"
           }
          ],
          "scatterternary": [
           {
            "marker": {
             "colorbar": {
              "outlinewidth": 0,
              "ticks": ""
             }
            },
            "type": "scatterternary"
           }
          ],
          "surface": [
           {
            "colorbar": {
             "outlinewidth": 0,
             "ticks": ""
            },
            "colorscale": [
             [
              0,
              "#0d0887"
             ],
             [
              0.1111111111111111,
              "#46039f"
             ],
             [
              0.2222222222222222,
              "#7201a8"
             ],
             [
              0.3333333333333333,
              "#9c179e"
             ],
             [
              0.4444444444444444,
              "#bd3786"
             ],
             [
              0.5555555555555556,
              "#d8576b"
             ],
             [
              0.6666666666666666,
              "#ed7953"
             ],
             [
              0.7777777777777778,
              "#fb9f3a"
             ],
             [
              0.8888888888888888,
              "#fdca26"
             ],
             [
              1,
              "#f0f921"
             ]
            ],
            "type": "surface"
           }
          ],
          "table": [
           {
            "cells": {
             "fill": {
              "color": "#EBF0F8"
             },
             "line": {
              "color": "white"
             }
            },
            "header": {
             "fill": {
              "color": "#C8D4E3"
             },
             "line": {
              "color": "white"
             }
            },
            "type": "table"
           }
          ]
         },
         "layout": {
          "annotationdefaults": {
           "arrowcolor": "#2a3f5f",
           "arrowhead": 0,
           "arrowwidth": 1
          },
          "autotypenumbers": "strict",
          "coloraxis": {
           "colorbar": {
            "outlinewidth": 0,
            "ticks": ""
           }
          },
          "colorscale": {
           "diverging": [
            [
             0,
             "#8e0152"
            ],
            [
             0.1,
             "#c51b7d"
            ],
            [
             0.2,
             "#de77ae"
            ],
            [
             0.3,
             "#f1b6da"
            ],
            [
             0.4,
             "#fde0ef"
            ],
            [
             0.5,
             "#f7f7f7"
            ],
            [
             0.6,
             "#e6f5d0"
            ],
            [
             0.7,
             "#b8e186"
            ],
            [
             0.8,
             "#7fbc41"
            ],
            [
             0.9,
             "#4d9221"
            ],
            [
             1,
             "#276419"
            ]
           ],
           "sequential": [
            [
             0,
             "#0d0887"
            ],
            [
             0.1111111111111111,
             "#46039f"
            ],
            [
             0.2222222222222222,
             "#7201a8"
            ],
            [
             0.3333333333333333,
             "#9c179e"
            ],
            [
             0.4444444444444444,
             "#bd3786"
            ],
            [
             0.5555555555555556,
             "#d8576b"
            ],
            [
             0.6666666666666666,
             "#ed7953"
            ],
            [
             0.7777777777777778,
             "#fb9f3a"
            ],
            [
             0.8888888888888888,
             "#fdca26"
            ],
            [
             1,
             "#f0f921"
            ]
           ],
           "sequentialminus": [
            [
             0,
             "#0d0887"
            ],
            [
             0.1111111111111111,
             "#46039f"
            ],
            [
             0.2222222222222222,
             "#7201a8"
            ],
            [
             0.3333333333333333,
             "#9c179e"
            ],
            [
             0.4444444444444444,
             "#bd3786"
            ],
            [
             0.5555555555555556,
             "#d8576b"
            ],
            [
             0.6666666666666666,
             "#ed7953"
            ],
            [
             0.7777777777777778,
             "#fb9f3a"
            ],
            [
             0.8888888888888888,
             "#fdca26"
            ],
            [
             1,
             "#f0f921"
            ]
           ]
          },
          "colorway": [
           "#636efa",
           "#EF553B",
           "#00cc96",
           "#ab63fa",
           "#FFA15A",
           "#19d3f3",
           "#FF6692",
           "#B6E880",
           "#FF97FF",
           "#FECB52"
          ],
          "font": {
           "color": "#2a3f5f"
          },
          "geo": {
           "bgcolor": "white",
           "lakecolor": "white",
           "landcolor": "#E5ECF6",
           "showlakes": true,
           "showland": true,
           "subunitcolor": "white"
          },
          "hoverlabel": {
           "align": "left"
          },
          "hovermode": "closest",
          "mapbox": {
           "style": "light"
          },
          "paper_bgcolor": "white",
          "plot_bgcolor": "#E5ECF6",
          "polar": {
           "angularaxis": {
            "gridcolor": "white",
            "linecolor": "white",
            "ticks": ""
           },
           "bgcolor": "#E5ECF6",
           "radialaxis": {
            "gridcolor": "white",
            "linecolor": "white",
            "ticks": ""
           }
          },
          "scene": {
           "xaxis": {
            "backgroundcolor": "#E5ECF6",
            "gridcolor": "white",
            "gridwidth": 2,
            "linecolor": "white",
            "showbackground": true,
            "ticks": "",
            "zerolinecolor": "white"
           },
           "yaxis": {
            "backgroundcolor": "#E5ECF6",
            "gridcolor": "white",
            "gridwidth": 2,
            "linecolor": "white",
            "showbackground": true,
            "ticks": "",
            "zerolinecolor": "white"
           },
           "zaxis": {
            "backgroundcolor": "#E5ECF6",
            "gridcolor": "white",
            "gridwidth": 2,
            "linecolor": "white",
            "showbackground": true,
            "ticks": "",
            "zerolinecolor": "white"
           }
          },
          "shapedefaults": {
           "line": {
            "color": "#2a3f5f"
           }
          },
          "ternary": {
           "aaxis": {
            "gridcolor": "white",
            "linecolor": "white",
            "ticks": ""
           },
           "baxis": {
            "gridcolor": "white",
            "linecolor": "white",
            "ticks": ""
           },
           "bgcolor": "#E5ECF6",
           "caxis": {
            "gridcolor": "white",
            "linecolor": "white",
            "ticks": ""
           }
          },
          "title": {
           "x": 0.05
          },
          "xaxis": {
           "automargin": true,
           "gridcolor": "white",
           "linecolor": "white",
           "ticks": "",
           "title": {
            "standoff": 15
           },
           "zerolinecolor": "white",
           "zerolinewidth": 2
          },
          "yaxis": {
           "automargin": true,
           "gridcolor": "white",
           "linecolor": "white",
           "ticks": "",
           "title": {
            "standoff": 15
           },
           "zerolinecolor": "white",
           "zerolinewidth": 2
          }
         }
        },
        "title": {
         "text": "GMM Clustering (Random Init)"
        },
        "width": 700,
        "xaxis": {
         "title": {
          "text": "X1"
         }
        },
        "yaxis": {
         "title": {
          "text": "X2"
         }
        }
       }
      }
     },
     "metadata": {},
     "output_type": "display_data"
    }
   ],
   "source": [
    "from emgmm import plot_gmm_interactive\n",
    "\n",
    "plot_gmm_interactive(X_used, labels_kmeans, gmm_kmeans.means_, gmm_kmeans.covariances_, title=\"GMM Clustering (KMeans Init)\")\n",
    "plot_gmm_interactive(X_used, labels_random, gmm_random.means_, gmm_random.covariances_, title=\"GMM Clustering (Random Init)\")\n"
   ]
  },
  {
   "cell_type": "code",
   "execution_count": 16,
   "id": "b2f41ffb",
   "metadata": {},
   "outputs": [
    {
     "data": {
      "image/png": "[encoded data removed]",
      "text/plain": [
       "<Figure size 640x480 with 1 Axes>"
      ]
     },
     "metadata": {},
     "output_type": "display_data"
    },
    {
     "name": "stdout",
     "output_type": "stream",
     "text": [
      "KMeans loglik: -7323.938616553985\n",
      "Random loglik: -7323.938623200196\n"
     ]
    }
   ],
   "source": [
    "import matplotlib.pyplot as plt\n",
    "import numpy as np\n",
    "\n",
    "plt.plot(gmm_kmeans.log_likelihood_, label=\"KMeans Init\")\n",
    "plt.plot(gmm_random.log_likelihood_, label=\"Random Init\")\n",
    "plt.xlabel(\"Iteration\")\n",
    "plt.ylabel(\"Log-Likelihood\")\n",
    "plt.title(\"EM Convergence on High-Dimensional Data\")\n",
    "plt.legend()\n",
    "plt.grid(True)\n",
    "plt.show()\n",
    "\n",
    "print(\"KMeans loglik:\", gmm_kmeans.log_likelihood_[-1])\n",
    "print(\"Random loglik:\", gmm_random.log_likelihood_[-1])"
   ]
  }
 ],
 "metadata": {
  "kernelspec": {
   "display_name": "Python 3",
   "language": "python",
   "name": "python3"
  },
  "language_info": {
   "codemirror_mode": {
    "name": "ipython",
    "version": 3
   },
   "file_extension": ".py",
   "mimetype": "text/x-python",
   "name": "python",
   "nbconvert_exporter": "python",
   "pygments_lexer": "ipython3",
   "version": "3.11.6"
  }
 },
 "nbformat": 4,
 "nbformat_minor": 5
}
